{
 "cells": [
  {
   "cell_type": "code",
   "execution_count": 2,
   "id": "e77c2163",
   "metadata": {},
   "outputs": [
    {
     "name": "stdout",
     "output_type": "stream",
     "text": [
      "        UserId  TransactionId               TransactionTime  ItemCode  \\\n",
      "0     278166.0        6355745  Sat Feb 02 12:50:00 IST 2019    465549   \n",
      "1     337701.0        6283376  Wed Dec 26 09:06:00 IST 2018    482370   \n",
      "2     267099.0        6385599  Fri Feb 15 09:45:00 IST 2019    490728   \n",
      "3     380478.0        6044973  Fri Jun 22 07:14:00 IST 2018    459186   \n",
      "4     331884.0        6223569  Sun Nov 18 11:14:00 IST 2018    461622   \n",
      "...        ...            ...                           ...       ...   \n",
      "9993  333207.0        5909200  Fri Feb 16 10:17:00 IST 2018    459711   \n",
      "9994  344526.0        6354656  Sat Feb 02 07:57:00 IST 2019    493626   \n",
      "9995  372099.0        6028154  Sun Jun 10 07:29:00 IST 2018    752010   \n",
      "9996  260379.0        6077973  Sun Jul 22 06:22:00 IST 2018    460194   \n",
      "9997      -1.0        6276512  Sun Dec 23 07:37:00 IST 2018   1784937   \n",
      "\n",
      "                        ItemDescription  NumberOfItemsPurchased  CostPerItem  \\\n",
      "0      FAMILY ALBUM WHITE PICTURE FRAME                       6        11.73   \n",
      "1                 LONDON BUS COFFEE MUG                       3         3.52   \n",
      "2     SET 12 COLOUR PENCILS DOLLY GIRL                       72         0.90   \n",
      "3           UNION JACK FLAG LUGGAGE TAG                       3         1.73   \n",
      "4              PACK OF 12 SUKI TISSUES                       72         0.54   \n",
      "...                                 ...                     ...          ...   \n",
      "9993   TRADITIONAL WOODEN SKIPPING ROPE                       6         1.73   \n",
      "9994       MINI PLAYING CARDS SPACEBOY                        6         0.58   \n",
      "9995   ENAMEL BLUE RIM COFFEE CONTAINER                      36         1.15   \n",
      "9996             BLUE HARMONICA IN BOX                       36         1.73   \n",
      "9997   CHILDRENS CUTLERY RETROSPOT RED                       27        11.45   \n",
      "\n",
      "             Country  \n",
      "0     United Kingdom  \n",
      "1     United Kingdom  \n",
      "2             France  \n",
      "3     United Kingdom  \n",
      "4     United Kingdom  \n",
      "...              ...  \n",
      "9993  United Kingdom  \n",
      "9994  United Kingdom  \n",
      "9995  United Kingdom  \n",
      "9996         Belgium  \n",
      "9997  United Kingdom  \n",
      "\n",
      "[9998 rows x 8 columns]\n"
     ]
    }
   ],
   "source": [
    "import pandas as pd\n",
    "df=pd.read_csv('transaction_data.csv')\n",
    "print(df)"
   ]
  },
  {
   "cell_type": "code",
   "execution_count": 4,
   "id": "1f3d7adb",
   "metadata": {},
   "outputs": [
    {
     "name": "stdout",
     "output_type": "stream",
     "text": [
      "(9998, 8)\n"
     ]
    }
   ],
   "source": [
    "import pandas as pd\n",
    "df=pd.read_csv('transaction_data.csv')\n",
    "print(df.shape)#no of records and columns"
   ]
  },
  {
   "cell_type": "code",
   "execution_count": 5,
   "id": "8c2a85a2",
   "metadata": {},
   "outputs": [
    {
     "name": "stdout",
     "output_type": "stream",
     "text": [
      "     UserId  TransactionId               TransactionTime  ItemCode  \\\n",
      "0  278166.0        6355745  Sat Feb 02 12:50:00 IST 2019    465549   \n",
      "1  337701.0        6283376  Wed Dec 26 09:06:00 IST 2018    482370   \n",
      "2  267099.0        6385599  Fri Feb 15 09:45:00 IST 2019    490728   \n",
      "3  380478.0        6044973  Fri Jun 22 07:14:00 IST 2018    459186   \n",
      "4  331884.0        6223569  Sun Nov 18 11:14:00 IST 2018    461622   \n",
      "\n",
      "                     ItemDescription  NumberOfItemsPurchased  CostPerItem  \\\n",
      "0   FAMILY ALBUM WHITE PICTURE FRAME                       6        11.73   \n",
      "1              LONDON BUS COFFEE MUG                       3         3.52   \n",
      "2  SET 12 COLOUR PENCILS DOLLY GIRL                       72         0.90   \n",
      "3        UNION JACK FLAG LUGGAGE TAG                       3         1.73   \n",
      "4           PACK OF 12 SUKI TISSUES                       72         0.54   \n",
      "\n",
      "          Country  \n",
      "0  United Kingdom  \n",
      "1  United Kingdom  \n",
      "2          France  \n",
      "3  United Kingdom  \n",
      "4  United Kingdom  \n"
     ]
    }
   ],
   "source": [
    "import pandas as pd\n",
    "df=pd.read_csv('transaction_data.csv')\n",
    "#top 5 record\n",
    "print(df.head())"
   ]
  },
  {
   "cell_type": "code",
   "execution_count": 6,
   "id": "cbf9b08b",
   "metadata": {},
   "outputs": [
    {
     "name": "stdout",
     "output_type": "stream",
     "text": [
      "     UserId  TransactionId               TransactionTime  ItemCode  \\\n",
      "0  278166.0        6355745  Sat Feb 02 12:50:00 IST 2019    465549   \n",
      "1  337701.0        6283376  Wed Dec 26 09:06:00 IST 2018    482370   \n",
      "2  267099.0        6385599  Fri Feb 15 09:45:00 IST 2019    490728   \n",
      "3  380478.0        6044973  Fri Jun 22 07:14:00 IST 2018    459186   \n",
      "4  331884.0        6223569  Sun Nov 18 11:14:00 IST 2018    461622   \n",
      "5  335580.0        6031883  Mon Jun 11 11:05:00 IST 2018    476028   \n",
      "6  364308.0        6257163  Tue Dec 11 07:39:00 IST 2018    434028   \n",
      "7  262269.0        5945093  Wed Mar 21 09:13:00 IST 2018    474726   \n",
      "8      -1.0        6388019  Sat Feb 16 13:24:00 IST 2019    490329   \n",
      "\n",
      "                     ItemDescription  NumberOfItemsPurchased  CostPerItem  \\\n",
      "0   FAMILY ALBUM WHITE PICTURE FRAME                       6        11.73   \n",
      "1              LONDON BUS COFFEE MUG                       3         3.52   \n",
      "2  SET 12 COLOUR PENCILS DOLLY GIRL                       72         0.90   \n",
      "3        UNION JACK FLAG LUGGAGE TAG                       3         1.73   \n",
      "4           PACK OF 12 SUKI TISSUES                       72         0.54   \n",
      "5                  PINK BABY BUNTING                     150         3.52   \n",
      "6    DISCO BALL CHRISTMAS DECORATION                      72         0.17   \n",
      "7         WOODEN SKITTLES GARDEN SET                       6        22.02   \n",
      "8        ROLL WRAP VINTAGE CHRISTMAS                      30         3.40   \n",
      "\n",
      "          Country  \n",
      "0  United Kingdom  \n",
      "1  United Kingdom  \n",
      "2          France  \n",
      "3  United Kingdom  \n",
      "4  United Kingdom  \n",
      "5  United Kingdom  \n",
      "6  United Kingdom  \n",
      "7          France  \n",
      "8  United Kingdom  \n"
     ]
    }
   ],
   "source": [
    "import pandas as pd\n",
    "df=pd.read_csv('transaction_data.csv')\n",
    "#top n record\n",
    "print(df.head(9))"
   ]
  },
  {
   "cell_type": "code",
   "execution_count": 7,
   "id": "4913f608",
   "metadata": {},
   "outputs": [
    {
     "name": "stdout",
     "output_type": "stream",
     "text": [
      "        UserId  TransactionId               TransactionTime  ItemCode  \\\n",
      "9993  333207.0        5909200  Fri Feb 16 10:17:00 IST 2018    459711   \n",
      "9994  344526.0        6354656  Sat Feb 02 07:57:00 IST 2019    493626   \n",
      "9995  372099.0        6028154  Sun Jun 10 07:29:00 IST 2018    752010   \n",
      "9996  260379.0        6077973  Sun Jul 22 06:22:00 IST 2018    460194   \n",
      "9997      -1.0        6276512  Sun Dec 23 07:37:00 IST 2018   1784937   \n",
      "\n",
      "                       ItemDescription  NumberOfItemsPurchased  CostPerItem  \\\n",
      "9993  TRADITIONAL WOODEN SKIPPING ROPE                       6         1.73   \n",
      "9994      MINI PLAYING CARDS SPACEBOY                        6         0.58   \n",
      "9995  ENAMEL BLUE RIM COFFEE CONTAINER                      36         1.15   \n",
      "9996            BLUE HARMONICA IN BOX                       36         1.73   \n",
      "9997  CHILDRENS CUTLERY RETROSPOT RED                       27        11.45   \n",
      "\n",
      "             Country  \n",
      "9993  United Kingdom  \n",
      "9994  United Kingdom  \n",
      "9995  United Kingdom  \n",
      "9996         Belgium  \n",
      "9997  United Kingdom  \n"
     ]
    }
   ],
   "source": [
    "import pandas as pd\n",
    "df=pd.read_csv('transaction_data.csv')\n",
    "# last 5\n",
    "print(df.tail())"
   ]
  },
  {
   "cell_type": "code",
   "execution_count": 8,
   "id": "3fc9aaf0",
   "metadata": {},
   "outputs": [
    {
     "name": "stdout",
     "output_type": "stream",
     "text": [
      "        UserId  TransactionId               TransactionTime  ItemCode  \\\n",
      "9983  307146.0        6190063  Sun Oct 21 06:20:00 IST 2018    478359   \n",
      "9984      -1.0        6345240  Mon Jan 28 11:23:00 IST 2019    489762   \n",
      "9985      -1.0        6060494  Tue Jul 03 12:18:00 IST 2018    987273   \n",
      "9986  323736.0        6267008  Tue Dec 18 05:38:00 IST 2018    465738   \n",
      "9987      -1.0        6020718  Sun Jun 03 07:49:00 IST 2018    467145   \n",
      "9988      -1.0        6149561  Sun Sep 16 12:47:00 IST 2018    467859   \n",
      "9989  364833.0        5969139  Sat Apr 14 07:46:00 IST 2018    443604   \n",
      "9990      -1.0        6017462  Fri Jun 01 07:00:00 IST 2018    448875   \n",
      "9991  378735.0        6319269  Wed Jan 16 08:39:00 IST 2019    441861   \n",
      "9992      -1.0        6015801  Tue May 29 14:18:00 IST 2018    467628   \n",
      "9993  333207.0        5909200  Fri Feb 16 10:17:00 IST 2018    459711   \n",
      "9994  344526.0        6354656  Sat Feb 02 07:57:00 IST 2019    493626   \n",
      "9995  372099.0        6028154  Sun Jun 10 07:29:00 IST 2018    752010   \n",
      "9996  260379.0        6077973  Sun Jul 22 06:22:00 IST 2018    460194   \n",
      "9997      -1.0        6276512  Sun Dec 23 07:37:00 IST 2018   1784937   \n",
      "\n",
      "                         ItemDescription  NumberOfItemsPurchased  CostPerItem  \\\n",
      "9983          WOODEN OWLS LIGHT GARLAND                       12         5.87   \n",
      "9984         LARGE WHITE HEART OF WICKER                       3         8.00   \n",
      "9985                             damaged                      -6         0.00   \n",
      "9986     VICTORIAN GLASS HANGING T-LIGHT                      36         2.70   \n",
      "9987                                 NaN                    -330         0.00   \n",
      "9988    POCKET BAG BLUE PAISLEY RED SPOT                       3         1.15   \n",
      "9989  SET/10 BLUE POLKADOT PARTY CANDLES                      12         1.73   \n",
      "9990  LARGE CAMPHOR WOOD FIELD MUSHROOM                        3        14.90   \n",
      "9991     RED RETROSPOT OVEN GLOVE DOUBLE                       3         4.08   \n",
      "9992     EASTER DECORATION SITTING BUNNY                       3         2.25   \n",
      "9993    TRADITIONAL WOODEN SKIPPING ROPE                       6         1.73   \n",
      "9994        MINI PLAYING CARDS SPACEBOY                        6         0.58   \n",
      "9995    ENAMEL BLUE RIM COFFEE CONTAINER                      36         1.15   \n",
      "9996              BLUE HARMONICA IN BOX                       36         1.73   \n",
      "9997    CHILDRENS CUTLERY RETROSPOT RED                       27        11.45   \n",
      "\n",
      "             Country  \n",
      "9983  United Kingdom  \n",
      "9984  United Kingdom  \n",
      "9985  United Kingdom  \n",
      "9986  United Kingdom  \n",
      "9987  United Kingdom  \n",
      "9988  United Kingdom  \n",
      "9989  United Kingdom  \n",
      "9990  United Kingdom  \n",
      "9991  United Kingdom  \n",
      "9992  United Kingdom  \n",
      "9993  United Kingdom  \n",
      "9994  United Kingdom  \n",
      "9995  United Kingdom  \n",
      "9996         Belgium  \n",
      "9997  United Kingdom  \n"
     ]
    }
   ],
   "source": [
    "import pandas as pd\n",
    "df=pd.read_csv('transaction_data.csv')\n",
    "# Last 15 \n",
    "print(df.tail(15))"
   ]
  },
  {
   "cell_type": "code",
   "execution_count": 14,
   "id": "d339b759",
   "metadata": {},
   "outputs": [
    {
     "name": "stdout",
     "output_type": "stream",
     "text": [
      "0    11.73\n",
      "1     3.52\n",
      "2     0.90\n",
      "3     1.73\n",
      "4     0.54\n",
      "5     3.52\n",
      "6     0.17\n",
      "7    22.02\n",
      "8     3.40\n",
      "9    11.45\n",
      "Name: CostPerItem, dtype: float64\n"
     ]
    }
   ],
   "source": [
    "import pandas as pd\n",
    "df=pd.read_csv('transaction_data.csv')\n",
    "# top 10 cost per item\n",
    "print(df['CostPerItem'].head(10))"
   ]
  },
  {
   "cell_type": "code",
   "execution_count": 15,
   "id": "344c9ae8",
   "metadata": {},
   "outputs": [
    {
     "name": "stdout",
     "output_type": "stream",
     "text": [
      "0      70.38\n",
      "1      10.56\n",
      "2      64.80\n",
      "3       5.19\n",
      "4      38.88\n",
      "5     528.00\n",
      "6      12.24\n",
      "7     132.12\n",
      "8     102.00\n",
      "9      34.35\n",
      "10     17.10\n",
      "11     61.20\n",
      "12    246.24\n",
      "13     20.55\n",
      "14     21.12\n",
      "15     27.30\n",
      "16     24.48\n",
      "17    103.14\n",
      "18     36.72\n",
      "19     82.08\n",
      "20     35.40\n",
      "21     45.63\n",
      "22     68.40\n",
      "23     24.30\n",
      "24      7.08\n",
      "Name: TotalBill, dtype: float64\n"
     ]
    }
   ],
   "source": [
    "import pandas as pd\n",
    "df=pd.read_csv('transaction_data.csv')\n",
    "df['TotalBill']=df['CostPerItem']*df['NumberOfItemsPurchased']\n",
    "print(df['TotalBill'].head(25))"
   ]
  },
  {
   "cell_type": "code",
   "execution_count": 16,
   "id": "153a6acf",
   "metadata": {},
   "outputs": [
    {
     "name": "stdout",
     "output_type": "stream",
     "text": [
      "        UserId  TransactionId               TransactionTime  ItemCode  \\\n",
      "2     267099.0        6385599  Fri Feb 15 09:45:00 IST 2019    490728   \n",
      "7     262269.0        5945093  Wed Mar 21 09:13:00 IST 2018    474726   \n",
      "59    267183.0        6266689  Mon Dec 17 11:52:00 IST 2018    489699   \n",
      "127   266301.0        5970085  Sat Apr 14 11:36:00 IST 2018        -1   \n",
      "156   266994.0        6208092  Tue Nov 06 05:55:00 IST 2018    482643   \n",
      "...        ...            ...                           ...       ...   \n",
      "9803  266994.0        5987905  Wed May 02 06:53:00 IST 2018    442680   \n",
      "9813  264243.0        5945005  Wed Mar 21 08:07:00 IST 2018    473571   \n",
      "9838  263991.0        6191834  Mon Oct 22 08:35:00 IST 2018    442974   \n",
      "9861  266322.0        6011269  Sat May 26 07:38:00 IST 2018    482097   \n",
      "9918  263256.0        6382893  Wed Feb 13 08:43:00 IST 2019   1781157   \n",
      "\n",
      "                          ItemDescription  NumberOfItemsPurchased  \\\n",
      "2       SET 12 COLOUR PENCILS DOLLY GIRL                       72   \n",
      "7              WOODEN SKITTLES GARDEN SET                       6   \n",
      "59            BOX OF 6 MINI 50'S CRACKERS                       6   \n",
      "127                               POSTAGE                       9   \n",
      "156                   CARD BILLBOARD FONT                      36   \n",
      "...                                   ...                     ...   \n",
      "9803  SET/20 RED RETROSPOT PAPER NAPKINS                       36   \n",
      "9813             PLASTERS IN TIN SPACEBOY                      72   \n",
      "9838        SET/6 RED SPOTTY PAPER PLATES                      36   \n",
      "9861  SET 3 PAPER VINTAGE CHICK PAPER EGG                      18   \n",
      "9918         DANISH ROSE DECORATIVE PLATE                     -36   \n",
      "\n",
      "      CostPerItem Country  \n",
      "2            0.90  France  \n",
      "7           22.02  France  \n",
      "59           3.44  France  \n",
      "127         24.84  France  \n",
      "156          0.58  France  \n",
      "...           ...     ...  \n",
      "9803         1.18  France  \n",
      "9813         2.28  France  \n",
      "9838         1.18  France  \n",
      "9861         4.08  France  \n",
      "9918         2.90  France  \n",
      "\n",
      "[191 rows x 8 columns]\n"
     ]
    }
   ],
   "source": [
    "import pandas as pd\n",
    "df=pd.read_csv('transaction_data.csv')\n",
    "dt=df[(df['Country']=='France')]\n",
    "print(dt)"
   ]
  },
  {
   "cell_type": "code",
   "execution_count": 17,
   "id": "ee6a13a1",
   "metadata": {},
   "outputs": [
    {
     "name": "stdout",
     "output_type": "stream",
     "text": [
      "        UserId  TransactionId               TransactionTime  ItemCode  \\\n",
      "7     262269.0        5945093  Wed Mar 21 09:13:00 IST 2018    474726   \n",
      "127   266301.0        5970085  Sat Apr 14 11:36:00 IST 2018        -1   \n",
      "395   264243.0        6153851  Wed Sep 19 08:22:00 IST 2018        -1   \n",
      "3408  265860.0        6370683  Sat Feb 09 09:26:00 IST 2019        -1   \n",
      "3684  262983.0        5990435  Sat May 05 10:58:00 IST 2018        -1   \n",
      "4520  264243.0        6133897  Sun Sep 02 10:30:00 IST 2018        -1   \n",
      "5768  267435.0        5967885  Wed Apr 11 09:37:00 IST 2018    474705   \n",
      "5895  263907.0        5907715  Fri Feb 16 07:57:00 IST 2018    475335   \n",
      "8538  263613.0        5952518  Wed Mar 28 06:42:00 IST 2018        -1   \n",
      "8567  264117.0        6319632  Wed Jan 16 09:28:00 IST 2019    484785   \n",
      "8785  263844.0        6022720  Mon Jun 04 10:55:00 IST 2018        -1   \n",
      "9698  263907.0        6219873  Fri Nov 16 10:22:00 IST 2018        -1   \n",
      "9699  266994.0        5987905  Wed May 02 06:53:00 IST 2018    466956   \n",
      "\n",
      "                       ItemDescription  NumberOfItemsPurchased  CostPerItem  \\\n",
      "7           WOODEN SKITTLES GARDEN SET                       6        22.02   \n",
      "127                            POSTAGE                       9        24.84   \n",
      "395                            POSTAGE                       6        24.84   \n",
      "3408                           POSTAGE                       3        24.84   \n",
      "3684                           POSTAGE                       3        24.84   \n",
      "4520                           POSTAGE                       3        24.84   \n",
      "5768         WOODEN CROQUET GARDEN SET                       6        20.64   \n",
      "5895  CHILDS BREAKFAST SET DOLLY GIRL                        6        13.74   \n",
      "8538                           POSTAGE                      18        24.84   \n",
      "8567      ANTIQUE SILVER BAUBLE LAMP                       -18        14.36   \n",
      "8785                           POSTAGE                       9        24.84   \n",
      "9698                           POSTAGE                       9        24.84   \n",
      "9699    CAKE STAND 3 TIER MAGIC GARDEN                       6        17.60   \n",
      "\n",
      "     Country  \n",
      "7     France  \n",
      "127   France  \n",
      "395   France  \n",
      "3408  France  \n",
      "3684  France  \n",
      "4520  France  \n",
      "5768  France  \n",
      "5895  France  \n",
      "8538  France  \n",
      "8567  France  \n",
      "8785  France  \n",
      "9698  France  \n",
      "9699  France  \n"
     ]
    }
   ],
   "source": [
    "import pandas as pd\n",
    "df=pd.read_csv('transaction_data.csv')\n",
    "dt=df[(df['Country']=='France') & (df['CostPerItem']>12)]\n",
    "print(dt)"
   ]
  },
  {
   "cell_type": "code",
   "execution_count": 19,
   "id": "08d2aa44",
   "metadata": {},
   "outputs": [
    {
     "name": "stdout",
     "output_type": "stream",
     "text": [
      "0     2.1114\n",
      "1     0.6336\n",
      "2     0.1620\n",
      "3     0.3114\n",
      "4     0.0972\n",
      "5     0.6336\n",
      "6     0.0306\n",
      "7     3.9636\n",
      "8     0.6120\n",
      "9     2.0610\n",
      "10    1.0260\n",
      "11    0.7344\n",
      "12    1.2312\n",
      "13    1.2330\n",
      "14    0.6336\n",
      "15    0.8190\n",
      "16    0.7344\n",
      "17    1.0314\n",
      "18    0.7344\n",
      "19    1.2312\n",
      "20    0.2124\n",
      "21    2.7378\n",
      "22    1.0260\n",
      "23    0.4860\n",
      "24    0.2124\n",
      "25    0.7344\n",
      "26    1.0566\n",
      "27    0.1368\n",
      "28    0.9324\n",
      "29    0.1368\n",
      "30    1.0260\n",
      "31    0.5220\n",
      "32    0.4104\n",
      "33    0.0972\n",
      "34    0.8424\n",
      "35    0.4050\n",
      "36    0.3114\n",
      "37    0.0972\n",
      "38    0.4860\n",
      "39    1.2312\n",
      "40    0.4860\n",
      "41    1.2312\n",
      "42    0.4050\n",
      "43    0.3114\n",
      "44    0.1044\n",
      "45    0.4104\n",
      "46    0.0954\n",
      "47    1.2312\n",
      "48    0.3114\n",
      "49    0.3114\n",
      "Name: GST, dtype: float64\n"
     ]
    }
   ],
   "source": [
    "import pandas as pd\n",
    "df=pd.read_csv('transaction_data.csv')\n",
    "df.insert(1,'GST',df['CostPerItem']*0.18)\n",
    "print(df['GST'].head(50))"
   ]
  },
  {
   "cell_type": "code",
   "execution_count": 20,
   "id": "b7b2fa0e",
   "metadata": {},
   "outputs": [
    {
     "name": "stdout",
     "output_type": "stream",
     "text": [
      "     UserId  TransactionId               TransactionTime  ItemCode  \\\n",
      "0  278166.0        6355745  Sat Feb 02 12:50:00 IST 2019    465549   \n",
      "1  337701.0        6283376  Wed Dec 26 09:06:00 IST 2018    482370   \n",
      "2  267099.0        6385599  Fri Feb 15 09:45:00 IST 2019    490728   \n",
      "3  380478.0        6044973  Fri Jun 22 07:14:00 IST 2018    459186   \n",
      "4  331884.0        6223569  Sun Nov 18 11:14:00 IST 2018    461622   \n",
      "5  335580.0        6031883  Mon Jun 11 11:05:00 IST 2018    476028   \n",
      "6  364308.0        6257163  Tue Dec 11 07:39:00 IST 2018    434028   \n",
      "7  262269.0        5945093  Wed Mar 21 09:13:00 IST 2018    474726   \n",
      "8      -1.0        6388019  Sat Feb 16 13:24:00 IST 2019    490329   \n",
      "9      -1.0        6212987  Sun Nov 11 08:02:00 IST 2018    443436   \n",
      "\n",
      "                     ItemDescription  NumberOfItemsPurchased  CostPerItem  \\\n",
      "0   FAMILY ALBUM WHITE PICTURE FRAME                       6        11.73   \n",
      "1              LONDON BUS COFFEE MUG                       3         3.52   \n",
      "2  SET 12 COLOUR PENCILS DOLLY GIRL                       72          NaN   \n",
      "3        UNION JACK FLAG LUGGAGE TAG                       3         1.73   \n",
      "4           PACK OF 12 SUKI TISSUES                       72         0.54   \n",
      "5                  PINK BABY BUNTING                     150          NaN   \n",
      "6    DISCO BALL CHRISTMAS DECORATION                      72         0.17   \n",
      "7         WOODEN SKITTLES GARDEN SET                       6        22.02   \n",
      "8        ROLL WRAP VINTAGE CHRISTMAS                      30          NaN   \n",
      "9                       OWL DOORSTOP                       3        11.45   \n",
      "\n",
      "          Country  \n",
      "0  United Kingdom  \n",
      "1  United Kingdom  \n",
      "2          France  \n",
      "3  United Kingdom  \n",
      "4  United Kingdom  \n",
      "5  United Kingdom  \n",
      "6  United Kingdom  \n",
      "7          France  \n",
      "8  United Kingdom  \n",
      "9  United Kingdom  \n"
     ]
    }
   ],
   "source": [
    "import pandas as pd\n",
    "df=pd.read_csv('transaction_data.csv')\n",
    "print(df.head(10))"
   ]
  },
  {
   "cell_type": "code",
   "execution_count": 22,
   "id": "e9b2835e",
   "metadata": {},
   "outputs": [
    {
     "name": "stdout",
     "output_type": "stream",
     "text": [
      "0    11.73\n",
      "1     3.52\n",
      "2     0.00\n",
      "3     1.73\n",
      "4     0.54\n",
      "5     0.00\n",
      "6     0.17\n",
      "7    22.02\n",
      "8     0.00\n",
      "9    11.45\n",
      "Name: CostPerItem, dtype: float64\n"
     ]
    }
   ],
   "source": [
    "import pandas as pd\n",
    "df=pd.read_csv('transaction_data.csv')\n",
    "df['CostPerItem'].fillna(0,inplace=True)\n",
    "print(df['CostPerItem'].head(10))"
   ]
  },
  {
   "cell_type": "code",
   "execution_count": 24,
   "id": "f68d32b0",
   "metadata": {},
   "outputs": [
    {
     "name": "stdout",
     "output_type": "stream",
     "text": [
      "0    11.730000\n",
      "1     3.520000\n",
      "2     6.567754\n",
      "3     1.730000\n",
      "4     0.540000\n",
      "5     6.567754\n",
      "6     0.170000\n",
      "7    22.020000\n",
      "8     6.567754\n",
      "9    11.450000\n",
      "Name: CostPerItem, dtype: float64\n"
     ]
    }
   ],
   "source": [
    "import pandas as pd\n",
    "df=pd.read_csv('transaction_data.csv')\n",
    "df['CostPerItem'].fillna(df['CostPerItem'].mean(),inplace=True)\n",
    "print(df['CostPerItem'].head(10))"
   ]
  },
  {
   "cell_type": "code",
   "execution_count": 31,
   "id": "ce631d33",
   "metadata": {},
   "outputs": [
    {
     "name": "stdout",
     "output_type": "stream",
     "text": [
      "        UserId  TransactionId               TransactionTime  ItemCode  \\\n",
      "680       -1.0        5996936  Sat May 12 10:19:00 IST 2018   1787079   \n",
      "1674      -1.0        6119542  Wed Aug 22 06:51:00 IST 2018    481215   \n",
      "4940      -1.0        6183804  Mon Oct 15 08:08:00 IST 2018    446397   \n",
      "4610      -1.0        6308467  Sat Jan 12 08:00:00 IST 2019    454482   \n",
      "3768      -1.0        6313890  Mon Jan 14 07:18:00 IST 2019    474726   \n",
      "...        ...            ...                           ...       ...   \n",
      "4165  325542.0        6263202  Sat Dec 15 12:44:00 IST 2018        -1   \n",
      "1198      -1.0        6138407  Wed Sep 05 08:33:00 IST 2018        -1   \n",
      "2     267099.0        6385599  Fri Feb 15 09:45:00 IST 2019    490728   \n",
      "5     335580.0        6031883  Mon Jun 11 11:05:00 IST 2018    476028   \n",
      "8         -1.0        6388019  Sat Feb 16 13:24:00 IST 2019    490329   \n",
      "\n",
      "                        ItemDescription  NumberOfItemsPurchased  CostPerItem  \\\n",
      "680                JUMBO BAG STRAWBERRY                       3         0.00   \n",
      "1674              sold as set on dotcom                    -612         0.00   \n",
      "4940                                  ?                    -282         0.00   \n",
      "4610                              check                    -414         0.00   \n",
      "3768                              check                       3         0.00   \n",
      "...                                 ...                     ...          ...   \n",
      "4165                             Manual                       3      4355.22   \n",
      "1198                         AMAZON FEE                      -3      6257.26   \n",
      "2     SET 12 COLOUR PENCILS DOLLY GIRL                       72          NaN   \n",
      "5                     PINK BABY BUNTING                     150          NaN   \n",
      "8           ROLL WRAP VINTAGE CHRISTMAS                      30          NaN   \n",
      "\n",
      "             Country  \n",
      "680   United Kingdom  \n",
      "1674  United Kingdom  \n",
      "4940  United Kingdom  \n",
      "4610  United Kingdom  \n",
      "3768  United Kingdom  \n",
      "...              ...  \n",
      "4165  United Kingdom  \n",
      "1198  United Kingdom  \n",
      "2             France  \n",
      "5     United Kingdom  \n",
      "8     United Kingdom  \n",
      "\n",
      "[9998 rows x 8 columns]\n"
     ]
    }
   ],
   "source": [
    "import pandas as pd\n",
    "df=pd.read_csv('transaction_data.csv')\n",
    "print(df.sort_values('CostPerItem'))"
   ]
  },
  {
   "cell_type": "code",
   "execution_count": 2,
   "id": "c80e949e",
   "metadata": {},
   "outputs": [
    {
     "name": "stdout",
     "output_type": "stream",
     "text": [
      "        UserId  TransactionId               TransactionTime  ItemCode  \\\n",
      "680       -1.0        5996936  Sat May 12 10:19:00 IST 2018   1787079   \n",
      "1674      -1.0        6119542  Wed Aug 22 06:51:00 IST 2018    481215   \n",
      "4940      -1.0        6183804  Mon Oct 15 08:08:00 IST 2018    446397   \n",
      "4610      -1.0        6308467  Sat Jan 12 08:00:00 IST 2019    454482   \n",
      "3768      -1.0        6313890  Mon Jan 14 07:18:00 IST 2019    474726   \n",
      "...        ...            ...                           ...       ...   \n",
      "4165  325542.0        6263202  Sat Dec 15 12:44:00 IST 2018        -1   \n",
      "1198      -1.0        6138407  Wed Sep 05 08:33:00 IST 2018        -1   \n",
      "2     267099.0        6385599  Fri Feb 15 09:45:00 IST 2019    490728   \n",
      "5     335580.0        6031883  Mon Jun 11 11:05:00 IST 2018    476028   \n",
      "8         -1.0        6388019  Sat Feb 16 13:24:00 IST 2019    490329   \n",
      "\n",
      "                        ItemDescription  NumberOfItemsPurchased  CostPerItem  \\\n",
      "680                JUMBO BAG STRAWBERRY                       3         0.00   \n",
      "1674              sold as set on dotcom                    -612         0.00   \n",
      "4940                                  ?                    -282         0.00   \n",
      "4610                              check                    -414         0.00   \n",
      "3768                              check                       3         0.00   \n",
      "...                                 ...                     ...          ...   \n",
      "4165                             Manual                       3      4355.22   \n",
      "1198                         AMAZON FEE                      -3      6257.26   \n",
      "2     SET 12 COLOUR PENCILS DOLLY GIRL                       72          NaN   \n",
      "5                     PINK BABY BUNTING                     150          NaN   \n",
      "8           ROLL WRAP VINTAGE CHRISTMAS                      30          NaN   \n",
      "\n",
      "             Country  \n",
      "680   United Kingdom  \n",
      "1674  United Kingdom  \n",
      "4940  United Kingdom  \n",
      "4610  United Kingdom  \n",
      "3768  United Kingdom  \n",
      "...              ...  \n",
      "4165  United Kingdom  \n",
      "1198  United Kingdom  \n",
      "2             France  \n",
      "5     United Kingdom  \n",
      "8     United Kingdom  \n",
      "\n",
      "[9998 rows x 8 columns]\n",
      "        UserId  TransactionId               TransactionTime  ItemCode  \\\n",
      "1198      -1.0        6138407  Wed Sep 05 08:33:00 IST 2018        -1   \n",
      "4165  325542.0        6263202  Sat Dec 15 12:44:00 IST 2018        -1   \n",
      "3309      -1.0        6199039  Mon Oct 29 08:34:00 IST 2018        -1   \n",
      "9634      -1.0        5918781  Tue Feb 20 10:09:00 IST 2018        -1   \n",
      "8005  261072.0        6135294  Mon Sep 03 09:12:00 IST 2018        -1   \n",
      "...        ...            ...                           ...       ...   \n",
      "8671      -1.0        6269230  Tue Dec 18 13:50:00 IST 2018    754194   \n",
      "1704      -1.0        6141366  Sun Sep 09 06:59:00 IST 2018   1789872   \n",
      "2     267099.0        6385599  Fri Feb 15 09:45:00 IST 2019    490728   \n",
      "5     335580.0        6031883  Mon Jun 11 11:05:00 IST 2018    476028   \n",
      "8         -1.0        6388019  Sat Feb 16 13:24:00 IST 2019    490329   \n",
      "\n",
      "                        ItemDescription  NumberOfItemsPurchased  CostPerItem  \\\n",
      "1198                         AMAZON FEE                      -3      6257.26   \n",
      "4165                             Manual                       3      4355.22   \n",
      "3309                     DOTCOM POSTAGE                       3      1593.45   \n",
      "9634                     DOTCOM POSTAGE                       3      1222.60   \n",
      "8005                            POSTAGE                       3       966.00   \n",
      "...                                 ...                     ...          ...   \n",
      "8671                                NaN                       6         0.00   \n",
      "1704                      mix up with c                    -354         0.00   \n",
      "2     SET 12 COLOUR PENCILS DOLLY GIRL                       72          NaN   \n",
      "5                     PINK BABY BUNTING                     150          NaN   \n",
      "8           ROLL WRAP VINTAGE CHRISTMAS                      30          NaN   \n",
      "\n",
      "             Country  \n",
      "1198  United Kingdom  \n",
      "4165  United Kingdom  \n",
      "3309  United Kingdom  \n",
      "9634  United Kingdom  \n",
      "8005          Norway  \n",
      "...              ...  \n",
      "8671  United Kingdom  \n",
      "1704  United Kingdom  \n",
      "2             France  \n",
      "5     United Kingdom  \n",
      "8     United Kingdom  \n",
      "\n",
      "[9998 rows x 8 columns]\n"
     ]
    }
   ],
   "source": [
    "import pandas as pd\n",
    "df=pd.read_csv('transaction_data.csv')\n",
    "print(df.sort_values('CostPerItem'))\n",
    "print(df.sort_values('CostPerItem',ascending=False))"
   ]
  },
  {
   "cell_type": "code",
   "execution_count": 2,
   "id": "92924206",
   "metadata": {},
   "outputs": [
    {
     "name": "stdout",
     "output_type": "stream",
     "text": [
      "      UserId  TransactionId_x             TransactionTime_x  ItemCode_x  \\\n",
      "0   278166.0          6355745  Sat Feb 02 12:50:00 IST 2019      465549   \n",
      "1   278166.0          6088357  Sun Jul 29 08:38:00 IST 2018      487284   \n",
      "2   278166.0          6088357  Sun Jul 29 08:38:00 IST 2018      474495   \n",
      "3   278166.0          5988884  Fri May 04 06:51:00 IST 2018      435099   \n",
      "4   278166.0          6088357  Sun Jul 29 08:38:00 IST 2018      443394   \n",
      "..       ...              ...                           ...         ...   \n",
      "58  364308.0          6257163  Tue Dec 11 07:39:00 IST 2018     1778532   \n",
      "59  364308.0          6333437  Wed Jan 23 07:11:00 IST 2019      493080   \n",
      "60  364308.0          6257163  Tue Dec 11 07:39:00 IST 2018      450009   \n",
      "61  262269.0          5945093  Wed Mar 21 09:13:00 IST 2018      474726   \n",
      "62       NaN          6212019  Fri Nov 09 08:44:00 IST 2018      479955   \n",
      "\n",
      "                   ItemDescription_x  NumberOfItemsPurchased_x  CostPerItem_x  \\\n",
      "0   FAMILY ALBUM WHITE PICTURE FRAME                         6          11.73   \n",
      "1        CHARLOTTE BAG APPLES DESIGN                        30           1.18   \n",
      "2           GINGHAM HEART DECORATION                         6           1.18   \n",
      "3             WOODLAND CHARLOTTE BAG                       300           1.00   \n",
      "4      LAVENDER SCENTED FABRIC HEART                        12           1.73   \n",
      "..                               ...                       ...            ...   \n",
      "58       BOX OF 24 COCKTAIL PARASOLS                        15           0.58   \n",
      "59    MINI LIGHTS WOODLAND MUSHROOMS                         3           5.18   \n",
      "60    RED GINGHAM ROSE JEWELLERY BOX                        18           2.70   \n",
      "61        WOODEN SKITTLES GARDEN SET                         6          22.02   \n",
      "62                FINE WICKER HEART                         30           1.73   \n",
      "\n",
      "         Country_x  TransactionId_y             TransactionTime_y  ItemCode_y  \\\n",
      "0   United Kingdom          6355745  Sat Feb 02 12:50:00 IST 2019      465549   \n",
      "1   United Kingdom          6355745  Sat Feb 02 12:50:00 IST 2019      465549   \n",
      "2   United Kingdom          6355745  Sat Feb 02 12:50:00 IST 2019      465549   \n",
      "3   United Kingdom          6355745  Sat Feb 02 12:50:00 IST 2019      465549   \n",
      "4   United Kingdom          6355745  Sat Feb 02 12:50:00 IST 2019      465549   \n",
      "..             ...              ...                           ...         ...   \n",
      "58  United Kingdom          6257163  Tue Dec 11 07:39:00 IST 2018      434028   \n",
      "59  United Kingdom          6257163  Tue Dec 11 07:39:00 IST 2018      434028   \n",
      "60  United Kingdom          6257163  Tue Dec 11 07:39:00 IST 2018      434028   \n",
      "61          France          5945093  Wed Mar 21 09:13:00 IST 2018      474726   \n",
      "62  United Kingdom          6388019  Sat Feb 16 13:24:00 IST 2019      490329   \n",
      "\n",
      "                   ItemDescription_y  NumberOfItemsPurchased_y  CostPerItem_y  \\\n",
      "0   FAMILY ALBUM WHITE PICTURE FRAME                         6          11.73   \n",
      "1   FAMILY ALBUM WHITE PICTURE FRAME                         6          11.73   \n",
      "2   FAMILY ALBUM WHITE PICTURE FRAME                         6          11.73   \n",
      "3   FAMILY ALBUM WHITE PICTURE FRAME                         6          11.73   \n",
      "4   FAMILY ALBUM WHITE PICTURE FRAME                         6          11.73   \n",
      "..                               ...                       ...            ...   \n",
      "58   DISCO BALL CHRISTMAS DECORATION                        72           0.17   \n",
      "59   DISCO BALL CHRISTMAS DECORATION                        72           0.17   \n",
      "60   DISCO BALL CHRISTMAS DECORATION                        72           0.17   \n",
      "61        WOODEN SKITTLES GARDEN SET                         6          22.02   \n",
      "62       ROLL WRAP VINTAGE CHRISTMAS                        30            NaN   \n",
      "\n",
      "         Country_y  \n",
      "0   United Kingdom  \n",
      "1   United Kingdom  \n",
      "2   United Kingdom  \n",
      "3   United Kingdom  \n",
      "4   United Kingdom  \n",
      "..             ...  \n",
      "58  United Kingdom  \n",
      "59  United Kingdom  \n",
      "60  United Kingdom  \n",
      "61          France  \n",
      "62  United Kingdom  \n",
      "\n",
      "[63 rows x 15 columns]\n"
     ]
    }
   ],
   "source": [
    "import pandas as pd\n",
    "df=pd.read_csv('transaction_data.csv')\n",
    "df1=pd.read_csv('order_data.csv')\n",
    "print(pd.merge(df,df1,on='UserId'))"
   ]
  },
  {
   "cell_type": "code",
   "execution_count": 3,
   "id": "c0362725",
   "metadata": {},
   "outputs": [
    {
     "name": "stdout",
     "output_type": "stream",
     "text": [
      "           empid  salary\n",
      "city                    \n",
      "agra        1212  588863\n",
      "alighar      737  329118\n",
      "dehradun     241   78365\n",
      "delhi        830  387342\n",
      "etah         726  293614\n",
      "firojabad    113   50000\n",
      "gujrat       125   52200\n",
      "jaipur       238  115189\n",
      "mathura      106   32548\n",
      "noida        245  127550\n",
      "simla        247   95631\n"
     ]
    }
   ],
   "source": [
    "import pandas as pd\n",
    "df=pd.read_csv('emp_data.csv')\n",
    "dt=df.groupby(['city']).sum()\n",
    "print(dt)"
   ]
  },
  {
   "cell_type": "code",
   "execution_count": 6,
   "id": "cbe181dd",
   "metadata": {},
   "outputs": [
    {
     "name": "stdout",
     "output_type": "stream",
     "text": [
      "city\n",
      "agra         588863\n",
      "alighar      329118\n",
      "dehradun      78365\n",
      "delhi        387342\n",
      "etah         293614\n",
      "firojabad     50000\n",
      "gujrat        52200\n",
      "jaipur       115189\n",
      "mathura       32548\n",
      "noida        127550\n",
      "simla         95631\n",
      "Name: salary, dtype: int64\n"
     ]
    }
   ],
   "source": [
    "import pandas as pd\n",
    "df=pd.read_csv('emp_data.csv')\n",
    "dt=df.groupby(['city'],sort=True)['salary'].sum()\n",
    "print(dt)"
   ]
  },
  {
   "cell_type": "code",
   "execution_count": 7,
   "id": "ffa42014",
   "metadata": {},
   "outputs": [
    {
     "name": "stdout",
     "output_type": "stream",
     "text": [
      "     Name  Sem  Marks\n",
      "0    Akki    1    350\n",
      "1   Ankur    2    450\n",
      "2   Akash    1    340\n",
      "3  Ujjval    3    410\n",
      "4  Mayank    2    330\n",
      "5   Rahul    3    290\n",
      "6    Ajay    2    360\n"
     ]
    }
   ],
   "source": [
    "import pandas as pd\n",
    "df=pd.read_csv('student_data.csv')\n",
    "print(df)"
   ]
  },
  {
   "cell_type": "code",
   "execution_count": 13,
   "id": "4281d5b2",
   "metadata": {},
   "outputs": [
    {
     "name": "stdout",
     "output_type": "stream",
     "text": [
      "            marks\n",
      "name   sem       \n",
      "Ajay   2      360\n",
      "Akash  1      340\n",
      "Akki   1      350\n",
      "Ankur  2      450\n",
      "Mayank 2      330\n",
      "Rahul  3      290\n",
      "Ujjval 3      410\n"
     ]
    }
   ],
   "source": [
    "import numpy as np\n",
    "import pandas as pd\n",
    "df=pd.read_csv('student_data.csv')\n",
    "t=pd.pivot_table(data=df,index=['name','sem'],aggfunc={'marks':np.sum})\n",
    "print(t)"
   ]
  },
  {
   "cell_type": "code",
   "execution_count": 14,
   "id": "4cf4804f",
   "metadata": {},
   "outputs": [
    {
     "data": {
      "image/png": "[encoded data removed]",
      "text/plain": [
       "<Figure size 432x288 with 1 Axes>"
      ]
     },
     "metadata": {
      "needs_background": "light"
     },
     "output_type": "display_data"
    }
   ],
   "source": [
    "import matplotlib.pyplot as plt\n",
    "df=pd.read_csv('emp_data.csv')\n",
    "df.plot()\n",
    "plt.show()"
   ]
  },
  {
   "cell_type": "code",
   "execution_count": 15,
   "id": "07309e46",
   "metadata": {},
   "outputs": [
    {
     "data": {
      "image/png": "[encoded data removed]",
      "text/plain": [
       "<Figure size 432x288 with 1 Axes>"
      ]
     },
     "metadata": {
      "needs_background": "light"
     },
     "output_type": "display_data"
    }
   ],
   "source": [
    "import matplotlib.pyplot as plt\n",
    "df=pd.read_csv('emp_data.csv')\n",
    "df.plot(kind='scatter',x='empid',y='salary')\n",
    "plt.show()"
   ]
  },
  {
   "cell_type": "code",
   "execution_count": 16,
   "id": "4512cc24",
   "metadata": {},
   "outputs": [
    {
     "data": {
      "image/png": "[encoded data removed]",
      "text/plain": [
       "<Figure size 432x288 with 1 Axes>"
      ]
     },
     "metadata": {
      "needs_background": "light"
     },
     "output_type": "display_data"
    }
   ],
   "source": [
    "import matplotlib.pyplot as plt\n",
    "df=pd.read_csv('emp_data.csv')\n",
    "df['salary'].plot(kind='hist')\n",
    "plt.show()"
   ]
  },
  {
   "cell_type": "code",
   "execution_count": 17,
   "id": "11365538",
   "metadata": {},
   "outputs": [
    {
     "data": {
      "image/png": "[encoded data removed]",
      "text/plain": [
       "<Figure size 432x288 with 1 Axes>"
      ]
     },
     "metadata": {
      "needs_background": "light"
     },
     "output_type": "display_data"
    }
   ],
   "source": [
    "import matplotlib.pyplot as plt\n",
    "df=pd.read_csv('emp_data.csv')\n",
    "df['salary'].plot(kind='bar')\n",
    "plt.show()"
   ]
  },
  {
   "cell_type": "code",
   "execution_count": 18,
   "id": "6bf17198",
   "metadata": {},
   "outputs": [
    {
     "data": {
      "image/png": "[encoded data removed]",
      "text/plain": [
       "<Figure size 432x288 with 1 Axes>"
      ]
     },
     "metadata": {},
     "output_type": "display_data"
    }
   ],
   "source": [
    "import matplotlib.pyplot as plt\n",
    "df=pd.read_csv('emp_data.csv')\n",
    "df.groupby(['city']).sum().plot(kind='pie',y='salary')\n",
    "plt.show()"
   ]
  },
  {
   "cell_type": "code",
   "execution_count": 2,
   "id": "eee6c8b0",
   "metadata": {},
   "outputs": [
    {
     "data": {
      "image/png": "[encoded data removed]",
      "text/plain": [
       "<Figure size 432x288 with 1 Axes>"
      ]
     },
     "metadata": {
      "needs_background": "light"
     },
     "output_type": "display_data"
    }
   ],
   "source": [
    "import pymysql\n",
    "import matplotlib.pyplot as plt\n",
    "db=pymysql.connect(host='localhost',user='root',password='ankurroot',database='company')\n",
    "cur=db.cursor()\n",
    "sql=\"select city,sum(Emp_salary) from empdata group by city\"\n",
    "a=[]\n",
    "b=[]\n",
    "cur.execute(sql)\n",
    "data=cur.fetchall()\n",
    "for res in data:\n",
    "    a.append(res[0])\n",
    "    b.append(res[1])\n",
    "plt.bar(a,b)\n",
    "plt.show()"
   ]
  },
  {
   "cell_type": "code",
   "execution_count": null,
   "id": "531fc18e",
   "metadata": {},
   "outputs": [],
   "source": []
  }
 ],
 "metadata": {
  "kernelspec": {
   "display_name": "Python 3",
   "language": "python",
   "name": "python3"
  },
  "language_info": {
   "codemirror_mode": {
    "name": "ipython",
    "version": 3
   },
   "file_extension": ".py",
   "mimetype": "text/x-python",
   "name": "python",
   "nbconvert_exporter": "python",
   "pygments_lexer": "ipython3",
   "version": "3.8.8"
  }
 },
 "nbformat": 4,
 "nbformat_minor": 5
}
